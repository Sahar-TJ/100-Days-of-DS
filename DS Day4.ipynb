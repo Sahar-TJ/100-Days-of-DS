{
 "cells": [
  {
   "cell_type": "markdown",
   "metadata": {},
   "source": [
    "# Day 4 of 100 days of Data Science\n",
    "\n",
    "a crowdsourced Data Science learning program by Mr. Sharan\n",
    "\n",
    "---\n",
    "\n",
    "## List and Tuple\n"
   ]
  },
  {
   "cell_type": "markdown",
   "metadata": {},
   "source": [
    "- __List:__ a list is a collection of arbitrary objects, somewhat akin to an array. Lists are defined in Python by enclosing a comma-separated sequence of objects in square brackets ([])\n",
    "    - Lists are ordered.\n",
    "    - Lists can contain any arbitrary objects.\n",
    "    - List elements can be accessed by index.\n",
    "    - Lists can be nested to arbitrary depth.\n",
    "    - Lists are mutable.\n",
    "    - Lists are dynamic.\n",
    "\n",
    "- __Tuple:__ Python provides another type that is an ordered collection of objects, called a tuple.\n",
    "  Tuples are identical to lists in all respects, except for the following properties:\n",
    "    - Tuples are defined by enclosing the elements in parentheses (()) instead of square brackets ([]).\n",
    "    - Tuples are immutable."
   ]
  },
  {
   "cell_type": "markdown",
   "metadata": {},
   "source": [
    "### Lists\n"
   ]
  },
  {
   "cell_type": "code",
   "execution_count": 1,
   "metadata": {},
   "outputs": [
    {
     "data": {
      "text/plain": [
       "[1, 3, 6, 9]"
      ]
     },
     "execution_count": 1,
     "metadata": {},
     "output_type": "execute_result"
    }
   ],
   "source": [
    "List_1 = [1, 3, 6, 9]\n",
    "List_1"
   ]
  },
  {
   "cell_type": "code",
   "execution_count": 4,
   "metadata": {},
   "outputs": [
    {
     "name": "stdout",
     "output_type": "stream",
     "text": [
      "Odd\n",
      "Odd\n",
      "Even\n",
      "Odd\n"
     ]
    }
   ],
   "source": [
    "for L in List_1:\n",
    "    if L % 2 == 0:\n",
    "        print(\"Even\")\n",
    "    else:\n",
    "        print(\"Odd\")"
   ]
  },
  {
   "cell_type": "markdown",
   "metadata": {},
   "source": [
    "### Tuple\n"
   ]
  },
  {
   "cell_type": "code",
   "execution_count": 7,
   "metadata": {},
   "outputs": [
    {
     "name": "stdout",
     "output_type": "stream",
     "text": [
      "(2, 4, 5, 9)\n",
      "<class 'tuple'>\n"
     ]
    }
   ],
   "source": [
    "Tup_1 = (2 , 4, 5, 9)\n",
    "print(Tup_1)\n",
    "print(type(Tup_1))"
   ]
  },
  {
   "cell_type": "code",
   "execution_count": 10,
   "metadata": {},
   "outputs": [
    {
     "name": "stdout",
     "output_type": "stream",
     "text": [
      "Even 2\n",
      "Even 4\n",
      "Odd 5\n",
      "Odd 9\n"
     ]
    }
   ],
   "source": [
    "for T in Tup_1:\n",
    "    if T % 2 == 0:\n",
    "        print(\"Even\", T)\n",
    "    else:\n",
    "        print(\"Odd\", T)"
   ]
  },
  {
   "cell_type": "markdown",
   "metadata": {},
   "source": [
    "#### Combination of both Lists and Tuples"
   ]
  },
  {
   "cell_type": "code",
   "execution_count": 24,
   "metadata": {},
   "outputs": [
    {
     "name": "stdout",
     "output_type": "stream",
     "text": [
      "<class 'int'>\n",
      "<class 'float'>\n",
      "<class 'str'>\n",
      "<class 'int'>\n",
      "<class 'tuple'>\n"
     ]
    }
   ],
   "source": [
    "List_2 = [56, 24.5, 'xyz', 90, (12, 56, 8)]\n",
    "for L in List_2:\n",
    "    print(type(L))"
   ]
  },
  {
   "cell_type": "code",
   "execution_count": 25,
   "metadata": {},
   "outputs": [
    {
     "name": "stdout",
     "output_type": "stream",
     "text": [
      "<class 'int'>\n",
      "<class 'str'>\n",
      "<class 'int'>\n",
      "<class 'list'>\n",
      "<class 'float'>\n"
     ]
    }
   ],
   "source": [
    "Tup_2 = (12, 'abc', 56, [4, 7], 8.6)\n",
    "for T in Tup_2:\n",
    "    print(type(T))"
   ]
  },
  {
   "cell_type": "markdown",
   "metadata": {},
   "source": [
    "__Indexing in Lists and Tuples__"
   ]
  },
  {
   "cell_type": "code",
   "execution_count": 26,
   "metadata": {},
   "outputs": [
    {
     "name": "stdout",
     "output_type": "stream",
     "text": [
      "1\n",
      "9\n",
      "5\n",
      "[4, 7]\n"
     ]
    }
   ],
   "source": [
    "print(List_1[0])\n",
    "print(List_1[3])\n",
    "print(Tup_1[2])\n",
    "print(Tup_2[3])"
   ]
  },
  {
   "cell_type": "markdown",
   "metadata": {},
   "source": [
    "## Exercise\n",
    "Write a Python program to compute the sum of all the elements of each tuple stored inside a list of tuples. \n",
    "\n",
    "__Example:__ \\\n",
    "    Original list of tuples: \\\n",
    "    [(1, 2), (2, 3), (3, 4)] \\\n",
    "    Sum of all the elements of each tuple stored inside the said list of tuples: \\\n",
    "    [3, 5, 7] "
   ]
  },
  {
   "cell_type": "code",
   "execution_count": 29,
   "metadata": {},
   "outputs": [
    {
     "data": {
      "text/plain": [
       "[90, 9, 87, 30]"
      ]
     },
     "execution_count": 29,
     "metadata": {},
     "output_type": "execute_result"
    }
   ],
   "source": [
    "def tsum(tup):\n",
    "    a = map(sum, tup)\n",
    "    return list(a)\n",
    "\n",
    "\n",
    "tup = [(13, 77), (7, 2), (82, 5), (24, 6)]\n",
    "tsum(tup)\n"
   ]
  },
  {
   "cell_type": "markdown",
   "metadata": {},
   "source": [
    "## Thank you!"
   ]
  }
 ],
 "metadata": {
  "kernelspec": {
   "display_name": "Python 3",
   "language": "python",
   "name": "python3"
  },
  "language_info": {
   "codemirror_mode": {
    "name": "ipython",
    "version": 3
   },
   "file_extension": ".py",
   "mimetype": "text/x-python",
   "name": "python",
   "nbconvert_exporter": "python",
   "pygments_lexer": "ipython3",
   "version": "3.8.3"
  }
 },
 "nbformat": 4,
 "nbformat_minor": 4
}
