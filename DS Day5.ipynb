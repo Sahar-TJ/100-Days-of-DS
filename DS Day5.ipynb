{
 "cells": [
  {
   "cell_type": "markdown",
   "metadata": {},
   "source": [
    "# Day 5 of 100 days of Data Science\n",
    "\n",
    "a crowdsourced Data Science learning program by Mr. Sharan\n",
    "\n",
    "---\n",
    "\n",
    "## Sets and Dictionary\n"
   ]
  },
  {
   "cell_type": "markdown",
   "metadata": {},
   "source": [
    "- __Sets:__ Set is an unordered collection data type that is iterable, mutable and has no duplicate elements. We cannot access items using indexes like we do in lists.\n",
    "\n",
    "- __Dictionary:__ A dictionary is an unordered and mutable Python container that stores mappings of unique keys to values. Dictionaries are written with curly brackets ({}), including key-value pairs separated by commas (,). A colon (:) separates each key from its value."
   ]
  },
  {
   "cell_type": "markdown",
   "metadata": {},
   "source": [
    "### Sets\n"
   ]
  },
  {
   "cell_type": "code",
   "execution_count": 1,
   "metadata": {},
   "outputs": [
    {
     "data": {
      "text/plain": [
       "{2, 'eight', 'seven'}"
      ]
     },
     "execution_count": 1,
     "metadata": {},
     "output_type": "execute_result"
    }
   ],
   "source": [
    "Set_1 = {\"seven\", 2, \"eight\"}\n",
    "Set_1"
   ]
  },
  {
   "cell_type": "code",
   "execution_count": 2,
   "metadata": {},
   "outputs": [
    {
     "name": "stdout",
     "output_type": "stream",
     "text": [
      "<class 'set'>\n",
      "eight\n",
      "seven\n"
     ]
    }
   ],
   "source": [
    "print(type(Set_1))\n",
    "for i in Set_1:\n",
    "    if type(i) == str:\n",
    "        print(i)"
   ]
  },
  {
   "cell_type": "markdown",
   "metadata": {},
   "source": [
    "### Dictionary"
   ]
  },
  {
   "cell_type": "code",
   "execution_count": 3,
   "metadata": {},
   "outputs": [
    {
     "name": "stdout",
     "output_type": "stream",
     "text": [
      "<class 'dict'>\n"
     ]
    }
   ],
   "source": [
    "Dict_1 = {\"BMW\" : 12, \"GMC\" : 82, \"Ford\" : 29}\n",
    "print(type(Dict_1))"
   ]
  },
  {
   "cell_type": "code",
   "execution_count": 4,
   "metadata": {},
   "outputs": [
    {
     "data": {
      "text/plain": [
       "82"
      ]
     },
     "execution_count": 4,
     "metadata": {},
     "output_type": "execute_result"
    }
   ],
   "source": [
    "Dict_1[\"GMC\"]"
   ]
  },
  {
   "cell_type": "code",
   "execution_count": 5,
   "metadata": {},
   "outputs": [
    {
     "name": "stdout",
     "output_type": "stream",
     "text": [
      "BMW\n",
      "GMC\n",
      "Ford\n"
     ]
    }
   ],
   "source": [
    "for i in Dict_1:\n",
    "    print(i)"
   ]
  },
  {
   "cell_type": "code",
   "execution_count": 6,
   "metadata": {},
   "outputs": [
    {
     "name": "stdout",
     "output_type": "stream",
     "text": [
      "12\n",
      "82\n",
      "29\n"
     ]
    }
   ],
   "source": [
    "for key, value in Dict_1.items():\n",
    "    print(value)"
   ]
  },
  {
   "cell_type": "markdown",
   "metadata": {},
   "source": [
    "#### Lists, sets and dictionaries"
   ]
  },
  {
   "cell_type": "code",
   "execution_count": 7,
   "metadata": {},
   "outputs": [
    {
     "name": "stdout",
     "output_type": "stream",
     "text": [
      "Dictionary:  {'abc': 10, 'bcd': 39, 'cde': 92, 'def': 74}\n",
      "Set:  {'abc', 'def', 39, 'cde', 10, 74, 'bcd', 92}\n"
     ]
    }
   ],
   "source": [
    "list_1 = [\"abc\", \"bcd\", \"cde\", \"def\"]\n",
    "list_2 = [10, 39, 92, 74]\n",
    "\n",
    "dict_2 = dict(zip(list_1, list_2))\n",
    "print(\"Dictionary: \",dict_2)\n",
    "\n",
    "set_2 = set(list_1) \n",
    "set_2.update(set(list_2))\n",
    "print(\"Set: \",set_2)"
   ]
  },
  {
   "cell_type": "code",
   "execution_count": 17,
   "metadata": {},
   "outputs": [
    {
     "name": "stdout",
     "output_type": "stream",
     "text": [
      "5th value:  15\n",
      "y:  [21, 22, 23, 24, 25, 26, 27, 28, 29]\n",
      "7th value:  37\n"
     ]
    },
    {
     "data": {
      "text/plain": [
       "{'x': [11, 12, 13, 14, 15, 16, 17, 18, 19],\n",
       " 'y': [21, 22, 23, 24, 25, 26, 27, 28, 29],\n",
       " 'z': [31, 32, 33, 34, 35, 36, 37, 38, 39]}"
      ]
     },
     "execution_count": 17,
     "metadata": {},
     "output_type": "execute_result"
    }
   ],
   "source": [
    "dict_nums = dict(x=list(range(11, 20)), y=list(range(21, 30)), z=list(range(31, 40)))\n",
    "\n",
    "print(\"5th value: \",dict_nums[\"x\"][4])\n",
    "print(\"y: \",dict_nums[\"y\"])\n",
    "print(\"7th value: \",dict_nums[\"z\"][6])\n",
    "dict_nums"
   ]
  },
  {
   "cell_type": "markdown",
   "metadata": {},
   "source": [
    "## Exercise\n",
    "Write a Python program to find the key of the maximum value in a dictionary.\n",
    "\n",
    "__Example__   \\\n",
    "Original dictionary elements:   \\\n",
    "{'Theodore': 19, 'Roxanne': 22, 'Mathew': 21, 'Betty': 20}   \\\n",
    "Finds the key of the maximum and minimum value of the said dictionary:   \\\n",
    "('Roxanne', 'Theodore')"
   ]
  },
  {
   "cell_type": "code",
   "execution_count": 25,
   "metadata": {},
   "outputs": [
    {
     "name": "stdout",
     "output_type": "stream",
     "text": [
      "{'roxy': 4000, 'theo': 6000, 'james': 5500, 'joe': 12000, 'tom': 15000}\n",
      "Maximum Salary and Minimum Salary:\n",
      "('tom', 'roxy')\n"
     ]
    }
   ],
   "source": [
    "def test(d):\n",
    "    return max(d, key= d.get), min(d, key= d.get)\n",
    "\n",
    "emp = {\"roxy\": 4000,\n",
    "    \"theo\": 6000,\n",
    "    \"james\": 5500,\n",
    "    \"joe\": 12000,\n",
    "    \"tom\": 15000\n",
    "}\n",
    "\n",
    "print(emp)\n",
    "\n",
    "print(\"Maximum Salary and Minimum Salary:\")\n",
    "print(test(emp))"
   ]
  },
  {
   "cell_type": "markdown",
   "metadata": {},
   "source": [
    "## Thank you!"
   ]
  }
 ],
 "metadata": {
  "kernelspec": {
   "display_name": "Python 3",
   "language": "python",
   "name": "python3"
  },
  "language_info": {
   "codemirror_mode": {
    "name": "ipython",
    "version": 3
   },
   "file_extension": ".py",
   "mimetype": "text/x-python",
   "name": "python",
   "nbconvert_exporter": "python",
   "pygments_lexer": "ipython3",
   "version": "3.8.3"
  }
 },
 "nbformat": 4,
 "nbformat_minor": 4
}
