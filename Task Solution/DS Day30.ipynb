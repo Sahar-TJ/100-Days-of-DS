{
 "cells": [
  {
   "cell_type": "markdown",
   "metadata": {},
   "source": [
    "# Day 30 of 100 Days of Data Science\n",
    "\n",
    "---\n",
    "## Stats - Empirical Rules, Z-Score and Hypothesis Testing"
   ]
  },
  {
   "cell_type": "markdown",
   "metadata": {},
   "source": [
    "__Empirical Rule:__ In a normal distribution, the center is always the mean. \n",
    "There is about 68.3% probablity that the values will lie between 1 standard deviation away from the mean, positive and negative. \\\n",
    "There is about 95.4% probablity that the values will lie between 2 standard deviation away from the mean, positive and negative. \\\n",
    "And there is about 99.7% probablity that the values will lie between 3 standard deviation away from the mean, positive and negative"
   ]
  },
  {
   "cell_type": "markdown",
   "metadata": {},
   "source": [
    "__z-Score:__ Tells us how much away are we from the mean of the population. If the Z-Score is 1.2, we are 1.2 standard deviation away from the mean. It is used hypothesis testing."
   ]
  },
  {
   "cell_type": "markdown",
   "metadata": {},
   "source": [
    "__Hypothesis testing:__ A statistical technique that helps scientists and researchers test the validity of their claims about the real-world/real-life events. It supports the certainty of findings. \n",
    "It is generally used when we were to compare:\n",
    "- a single group with an external standard\n",
    "- two or more groups with each other"
   ]
  },
  {
   "cell_type": "markdown",
   "metadata": {},
   "source": [
    "__Null Hypothesis(H0):__ Null hypothesis is a statistical theory that suggests there is no statistical significance exists between the populations.\n",
    "\n",
    "__Alternative Hypothesis(H1):__ An Alternative hypothesis suggests there is a significant difference between the population parameters. It could be greater or smaller. Basically, it is the contrast of the Null Hypothesis.\n",
    "\n",
    "__Level of significance:__ Denoted by alpha or α. It is a fixed probability of wrongly rejecting a True Null Hypothesis. For example, if α=5%, that means we are okay to take a 5% risk and conclude there exists a difference when there is no actual difference.\n",
    "\n",
    "__Critical Value:__ Denoted by C and it is a value in the distribution beyond which leads to the rejection of the Null Hypothesis. It is compared to the test statistic.\n",
    "\n",
    "__Test Statistic:__ It is denoted by t and is dependent on the test that we run. It is deciding factor to reject or accept Null Hypothesis.\n",
    "\n",
    "__p-value:__ It is the proportion of samples (assuming the Null Hypothesis is true) that would be as extreme as the test statistic. It is denoted by the letter p."
   ]
  },
  {
   "cell_type": "markdown",
   "metadata": {},
   "source": [
    "__Steps of Hypothesis testing:__\n",
    "\n",
    "- Start with specifying Null and Alternative Hypotheses about a population parameter\n",
    "- Set the level of significance (α)\n",
    "- Collect Sample data and calculate the Test Statistic and P-value by running a Hypothesis test that well suits our data\n",
    "- Make Conclusion: Reject or Fail to Reject Null Hypothesis"
   ]
  },
  {
   "cell_type": "markdown",
   "metadata": {},
   "source": [
    "__Decision:__\n",
    "The decision rule for the Test-statistic method:\n",
    "- if test-statistic (t) > critical Value (C), we reject Null Hypothesis.\n",
    "- If test-statistic (t) ≤ critical value (C), we fail to reject Null Hypothesis.\n",
    "\n",
    "The decision rule for the p-value method:\n",
    "- if p-value (p) > level of significance (α), we fail to reject Null Hypothesis\n",
    "- if p-value (p) ≤ level of significance (α), we reject Null Hypothesis\n",
    "\n",
    "__In easy terms, we say P High, Null Fly and P low, Null go.__"
   ]
  },
  {
   "cell_type": "markdown",
   "metadata": {},
   "source": [
    "__Example of Hypothesis Testing__"
   ]
  },
  {
   "cell_type": "code",
   "execution_count": 2,
   "metadata": {},
   "outputs": [],
   "source": [
    "import pandas as pd\n",
    "data = pd.read_csv(r'C:\\Users\\user\\Desktop\\100daysds\\diameter.csv')"
   ]
  },
  {
   "cell_type": "code",
   "execution_count": 4,
   "metadata": {},
   "outputs": [],
   "source": [
    "H0 = 'Data is normal'       #Nul Hypothesis\n",
    "Ha = 'Data is not normal'   #Alternative Hypothesis\n",
    "alpha = 0.05                #Level of significance"
   ]
  },
  {
   "cell_type": "code",
   "execution_count": 5,
   "metadata": {},
   "outputs": [],
   "source": [
    "from scipy.stats import shapiro\n",
    "p = round(shapiro(data)[1], 2)"
   ]
  },
  {
   "cell_type": "code",
   "execution_count": 7,
   "metadata": {},
   "outputs": [
    {
     "name": "stdout",
     "output_type": "stream",
     "text": [
      "0.52 > 0.05. We fail to reject Null Hypothesis. Data is normal\n"
     ]
    }
   ],
   "source": [
    "if p > alpha:\n",
    "    print(f\"{p} > {alpha}. We fail to reject Null Hypothesis. {H0}\")\n",
    "else:\n",
    "    print(f\"{p} <= {alpha}. We reject Null Hypothesis. {Ha}\")"
   ]
  },
  {
   "cell_type": "markdown",
   "metadata": {},
   "source": [
    "## Thank You!"
   ]
  }
 ],
 "metadata": {
  "kernelspec": {
   "display_name": "Python 3",
   "language": "python",
   "name": "python3"
  },
  "language_info": {
   "codemirror_mode": {
    "name": "ipython",
    "version": 3
   },
   "file_extension": ".py",
   "mimetype": "text/x-python",
   "name": "python",
   "nbconvert_exporter": "python",
   "pygments_lexer": "ipython3",
   "version": "3.8.3"
  }
 },
 "nbformat": 4,
 "nbformat_minor": 4
}
