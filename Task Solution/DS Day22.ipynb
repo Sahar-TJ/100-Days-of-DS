{
 "cells": [
  {
   "cell_type": "markdown",
   "metadata": {},
   "source": [
    "# Day 22 of 100 Days of Data Science\n",
    "\n",
    "---\n",
    "## NumPy: Sort, Search and Filter"
   ]
  },
  {
   "cell_type": "markdown",
   "metadata": {},
   "source": [
    "__Sort:__ Sorting means putting elements in an ordered sequence.\n",
    "\n",
    "__Search:__ Searching is when we have to find an element from the given array.\n",
    "\n",
    "__Filter:__ Getting some elements out of an existing array and creating a new array out of them is called filtering."
   ]
  },
  {
   "cell_type": "code",
   "execution_count": 1,
   "metadata": {},
   "outputs": [],
   "source": [
    "import numpy as np"
   ]
  },
  {
   "cell_type": "markdown",
   "metadata": {},
   "source": [
    "### Sorting\n",
    "\n",
    "__Sorting 1-D Array__"
   ]
  },
  {
   "cell_type": "code",
   "execution_count": 2,
   "metadata": {},
   "outputs": [
    {
     "name": "stdout",
     "output_type": "stream",
     "text": [
      "[56 12 34 21 89 45 32 13]\n",
      "[12 13 21 32 34 45 56 89]\n"
     ]
    }
   ],
   "source": [
    "array1 = np.array([56, 12, 34, 21, 89, 45, 32, 13])\n",
    "print(array1)\n",
    "print(np.sort(array1))"
   ]
  },
  {
   "cell_type": "markdown",
   "metadata": {},
   "source": [
    "__Reversing the Sort Order__"
   ]
  },
  {
   "cell_type": "code",
   "execution_count": 3,
   "metadata": {},
   "outputs": [
    {
     "name": "stdout",
     "output_type": "stream",
     "text": [
      "[89 56 45 34 32 21 13 12]\n"
     ]
    }
   ],
   "source": [
    "print(np.sort(array1)[::-1])"
   ]
  },
  {
   "cell_type": "markdown",
   "metadata": {},
   "source": [
    "__Sorting String Array__"
   ]
  },
  {
   "cell_type": "code",
   "execution_count": 4,
   "metadata": {},
   "outputs": [
    {
     "name": "stdout",
     "output_type": "stream",
     "text": [
      "['aa' 'ab' 'b' 'x' 'y' 'z']\n"
     ]
    }
   ],
   "source": [
    "str_array1 = np.array(['x','y','z','ab','b', 'aa'])\n",
    "print(np.sort(str_array1))"
   ]
  },
  {
   "cell_type": "markdown",
   "metadata": {},
   "source": [
    "__Sorting 2-D Array__"
   ]
  },
  {
   "cell_type": "code",
   "execution_count": 5,
   "metadata": {},
   "outputs": [
    {
     "name": "stdout",
     "output_type": "stream",
     "text": [
      "[[46  3 23 78 98]\n",
      " [78 46 86  2 23]\n",
      " [78 56 34 65 23]]\n",
      "[[ 3 23 46 78 98]\n",
      " [ 2 23 46 78 86]\n",
      " [23 34 56 65 78]]\n"
     ]
    }
   ],
   "source": [
    "array2 = np.array([[46,3,23,78,98], [78,46,86,2,23], [78,56,34,65,23]]) \n",
    "print(array2)\n",
    "print(np.sort(array2))"
   ]
  },
  {
   "cell_type": "markdown",
   "metadata": {},
   "source": [
    "__Sorting 2-D Arrays with Axis__"
   ]
  },
  {
   "cell_type": "code",
   "execution_count": 6,
   "metadata": {},
   "outputs": [
    {
     "name": "stdout",
     "output_type": "stream",
     "text": [
      "[[46  3 23  2 23]\n",
      " [78 46 34 65 23]\n",
      " [78 56 86 78 98]]\n"
     ]
    }
   ],
   "source": [
    "print(np.sort(array2, axis = 0))"
   ]
  },
  {
   "cell_type": "markdown",
   "metadata": {},
   "source": [
    "__Sorting Arrays by setting a kind__"
   ]
  },
  {
   "cell_type": "code",
   "execution_count": 7,
   "metadata": {},
   "outputs": [
    {
     "name": "stdout",
     "output_type": "stream",
     "text": [
      "[[46  3 23  2 23]\n",
      " [78 46 34 65 23]\n",
      " [78 56 86 78 98]]\n"
     ]
    }
   ],
   "source": [
    "print(np.sort(array2, axis = 0, kind = 'mergesort'))"
   ]
  },
  {
   "cell_type": "code",
   "execution_count": 8,
   "metadata": {},
   "outputs": [
    {
     "name": "stdout",
     "output_type": "stream",
     "text": [
      "[[46  3 23 78 98]\n",
      " [78 46 86  2 23]\n",
      " [78 56 34 65 23]]\n",
      "[[46  3 23  2 23]\n",
      " [78 46 34 65 23]\n",
      " [78 56 86 78 98]]\n"
     ]
    }
   ],
   "source": [
    "print(array2)\n",
    "print(np.msort(array2)) # Sort based on first axis"
   ]
  },
  {
   "cell_type": "markdown",
   "metadata": {},
   "source": [
    "### Searching"
   ]
  },
  {
   "cell_type": "code",
   "execution_count": 9,
   "metadata": {},
   "outputs": [
    {
     "data": {
      "text/plain": [
       "(array([2], dtype=int64),)"
      ]
     },
     "execution_count": 9,
     "metadata": {},
     "output_type": "execute_result"
    }
   ],
   "source": [
    "array1 = np.array([56, 12, 34, 21, 89, 45, 32, 13])\n",
    "np.where(array1 == 34)"
   ]
  },
  {
   "cell_type": "markdown",
   "metadata": {},
   "source": [
    "__Searching with conditions__"
   ]
  },
  {
   "cell_type": "code",
   "execution_count": 10,
   "metadata": {},
   "outputs": [
    {
     "data": {
      "text/plain": [
       "(array([0, 1, 2, 6], dtype=int64),)"
      ]
     },
     "execution_count": 10,
     "metadata": {},
     "output_type": "execute_result"
    }
   ],
   "source": [
    "np.where(array1%2 == 0)"
   ]
  },
  {
   "cell_type": "markdown",
   "metadata": {},
   "source": [
    "__Extracting where conditions are met__ "
   ]
  },
  {
   "cell_type": "code",
   "execution_count": 11,
   "metadata": {},
   "outputs": [
    {
     "data": {
      "text/plain": [
       "array([56, 12, 34, 32])"
      ]
     },
     "execution_count": 11,
     "metadata": {},
     "output_type": "execute_result"
    }
   ],
   "source": [
    "np.extract(array1%2 == 0, array1)"
   ]
  },
  {
   "cell_type": "markdown",
   "metadata": {},
   "source": [
    "__Where to insert to retain sort order__"
   ]
  },
  {
   "cell_type": "code",
   "execution_count": 18,
   "metadata": {},
   "outputs": [
    {
     "name": "stdout",
     "output_type": "stream",
     "text": [
      "2\n"
     ]
    },
    {
     "data": {
      "text/plain": [
       "8"
      ]
     },
     "execution_count": 18,
     "metadata": {},
     "output_type": "execute_result"
    }
   ],
   "source": [
    "print(np.searchsorted(array1, 33))\n",
    "np.searchsorted(array1, 336)"
   ]
  },
  {
   "cell_type": "code",
   "execution_count": 13,
   "metadata": {},
   "outputs": [
    {
     "data": {
      "text/plain": [
       "array([2, 0, 4], dtype=int64)"
      ]
     },
     "execution_count": 13,
     "metadata": {},
     "output_type": "execute_result"
    }
   ],
   "source": [
    "np.searchsorted(array1, [33, 4, 76])"
   ]
  },
  {
   "cell_type": "markdown",
   "metadata": {},
   "source": [
    "__Finding the position with min and max values__"
   ]
  },
  {
   "cell_type": "code",
   "execution_count": 14,
   "metadata": {},
   "outputs": [
    {
     "data": {
      "text/plain": [
       "1"
      ]
     },
     "execution_count": 14,
     "metadata": {},
     "output_type": "execute_result"
    }
   ],
   "source": [
    "np.argmin(array1)"
   ]
  },
  {
   "cell_type": "code",
   "execution_count": 15,
   "metadata": {},
   "outputs": [
    {
     "name": "stdout",
     "output_type": "stream",
     "text": [
      "[[12  2 33 44 15]\n",
      " [61 17 28 39  1]\n",
      " [16 22  3 41 15]]\n",
      "Position of minimum value 9\n",
      "Position of minimum values by rows [1 4 2]\n",
      "Position of minimum values by column [0 0 2 1 1]\n"
     ]
    }
   ],
   "source": [
    "array2 = np.array([[12,2,33,44,15],[61,17,28,39,1],[16,22,3,41,15]]) \n",
    "print(array2)\n",
    "print(\"Position of minimum value\", np.argmin(array2))\n",
    "print(\"Position of minimum values by rows\", np.argmin(array2, axis = 1))\n",
    "print(\"Position of minimum values by column\", np.argmin(array2, axis = 0))"
   ]
  },
  {
   "cell_type": "code",
   "execution_count": 16,
   "metadata": {},
   "outputs": [
    {
     "name": "stdout",
     "output_type": "stream",
     "text": [
      "[[12  2 33 44 15]\n",
      " [61 17 28 39  1]\n",
      " [16 22  3 41 15]]\n",
      "Position of maximum values 5\n"
     ]
    }
   ],
   "source": [
    "array2 = np.array([[12,2,33,44,15],[61,17,28,39,1],[16,22,3,41,15]]) \n",
    "print(array2)\n",
    "print(\"Position of maximum values\", np.argmax(array2))"
   ]
  },
  {
   "cell_type": "markdown",
   "metadata": {},
   "source": [
    "### Filtering"
   ]
  },
  {
   "cell_type": "code",
   "execution_count": 17,
   "metadata": {},
   "outputs": [
    {
     "name": "stdout",
     "output_type": "stream",
     "text": [
      "[12  2 15 17  1 16  3 15]\n"
     ]
    }
   ],
   "source": [
    "array2 = np.array([[12,2,33,44,15],[61,17,28,39,1],[16,22,3,41,15]]) \n",
    "condition = array2 > 19\n",
    "\n",
    "filtered_array = array2[array2 < 19]\n",
    "print(filtered_array)"
   ]
  },
  {
   "cell_type": "markdown",
   "metadata": {},
   "source": [
    "## Thank You!"
   ]
  }
 ],
 "metadata": {
  "kernelspec": {
   "display_name": "Python 3",
   "language": "python",
   "name": "python3"
  },
  "language_info": {
   "codemirror_mode": {
    "name": "ipython",
    "version": 3
   },
   "file_extension": ".py",
   "mimetype": "text/x-python",
   "name": "python",
   "nbconvert_exporter": "python",
   "pygments_lexer": "ipython3",
   "version": "3.8.3"
  }
 },
 "nbformat": 4,
 "nbformat_minor": 4
}
