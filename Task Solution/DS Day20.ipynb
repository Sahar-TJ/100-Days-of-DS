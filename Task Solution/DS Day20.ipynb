{
 "cells": [
  {
   "cell_type": "markdown",
   "metadata": {},
   "source": [
    "# Day 20 of 100 Days of Data Science\n",
    "\n",
    "---\n",
    "## NumPy: Iteration, Manipulation, and Random Numbers"
   ]
  },
  {
   "cell_type": "markdown",
   "metadata": {},
   "source": [
    "__Iteration:__ Iterating means going through elements one by one.\n",
    "\n",
    "__Manipulation:__ Can be done by many ways, changing shape, transposing, joining, etc.\n",
    "\n",
    "__Random Numbers:__ Refers to generating random values in an array."
   ]
  },
  {
   "cell_type": "markdown",
   "metadata": {},
   "source": [
    "### Iteration "
   ]
  },
  {
   "cell_type": "code",
   "execution_count": 1,
   "metadata": {},
   "outputs": [],
   "source": [
    "import numpy as np"
   ]
  },
  {
   "cell_type": "markdown",
   "metadata": {},
   "source": [
    "__Iterating One Dimensional Array__"
   ]
  },
  {
   "cell_type": "code",
   "execution_count": 2,
   "metadata": {},
   "outputs": [
    {
     "name": "stdout",
     "output_type": "stream",
     "text": [
      "1\n",
      "1\n",
      "2\n",
      "2\n",
      "3\n",
      "3\n",
      "4\n",
      "4\n",
      "5\n",
      "5\n"
     ]
    }
   ],
   "source": [
    "arr1 = np.array([1, 2, 3, 4, 5])\n",
    "i = 0\n",
    "for x in arr1:\n",
    "    print(x)\n",
    "    i = i+1\n",
    "    print(i)"
   ]
  },
  {
   "cell_type": "markdown",
   "metadata": {},
   "source": [
    "__Creating a Random 1-D Array and printing only the Even Numbers__"
   ]
  },
  {
   "cell_type": "code",
   "execution_count": 42,
   "metadata": {},
   "outputs": [
    {
     "name": "stdout",
     "output_type": "stream",
     "text": [
      "[26 60  1 59 89 61 13 46 62 60 62 55 48 10  4 67 15 50 99 86 17 58 92 61\n",
      " 35 25 20 44 76 82 15 91 88 81 49 36 80 71 57 71 91 35 68 27 81 11 33 34\n",
      "  1 31  1 28 34 37 89 55 29 50 24 86 46 75 57 78 44 78 95 89 86 81 69 90\n",
      " 69 93 27 56 82  5 99 33  1 78 95 65 37  2 16 70 67 50 94 63 19 48  4 25\n",
      " 12 44 68 82] \n",
      "\n",
      "20\n",
      "46\n",
      "60\n",
      "86\n",
      "50\n",
      "10\n",
      "46\n",
      "62\n",
      "82\n",
      "16\n",
      "50\n",
      "24\n",
      "36\n",
      "82\n",
      "78\n",
      "80\n",
      "90\n",
      "50\n",
      "90\n",
      "36\n",
      "86\n",
      "44\n",
      "78\n",
      "60\n",
      "60\n",
      "76\n",
      "50\n",
      "82\n",
      "16\n",
      "56\n",
      "50\n",
      "50\n",
      "16\n",
      "78\n",
      "94\n",
      "48\n",
      "44\n",
      "82\n",
      "60\n",
      "78\n",
      "4\n",
      "78\n",
      "86\n",
      "48\n",
      "86\n"
     ]
    }
   ],
   "source": [
    "arr = np.random.randint(1,101, 100)\n",
    "print(arr, \"\\n\")\n",
    "i = 0\n",
    "for x in arr:\n",
    "    if(arr[x]%2==0):\n",
    "        print(arr[x])\n",
    "    i= i+1"
   ]
  },
  {
   "cell_type": "markdown",
   "metadata": {},
   "source": [
    "__Iterating Two Dimensional Array__"
   ]
  },
  {
   "cell_type": "code",
   "execution_count": 17,
   "metadata": {},
   "outputs": [
    {
     "name": "stdout",
     "output_type": "stream",
     "text": [
      "[[ 1  2  3  4  5]\n",
      " [ 6  7  8  9 10]\n",
      " [ 6  7  8  9 10]] \n",
      "\n",
      "[1 2 3 4 5]\n",
      "1\n",
      "[ 6  7  8  9 10]\n",
      "2\n",
      "[ 6  7  8  9 10]\n",
      "3\n"
     ]
    }
   ],
   "source": [
    "arr2 = np.array([[1, 2, 3, 4, 5],[6, 7, 8, 9, 10],[6, 7, 8, 9, 10]])\n",
    "print(arr2, \"\\n\")\n",
    "i = 0\n",
    "for x in arr2:\n",
    "    print(x)\n",
    "    i = i + 1\n",
    "    print (i)"
   ]
  },
  {
   "cell_type": "markdown",
   "metadata": {},
   "source": [
    "__Iterating elements in Two Dimensional Array__"
   ]
  },
  {
   "cell_type": "code",
   "execution_count": 4,
   "metadata": {},
   "outputs": [
    {
     "name": "stdout",
     "output_type": "stream",
     "text": [
      "1\n",
      "2\n",
      "3\n",
      "4\n",
      "5\n",
      "6\n",
      "7\n",
      "8\n",
      "9\n",
      "10\n"
     ]
    }
   ],
   "source": [
    "arr3 = np.array([[1, 2, 3, 4, 5],[6, 7, 8, 9, 10]])\n",
    "for i in arr3:\n",
    "    for j in i:\n",
    "        print(j)"
   ]
  },
  {
   "cell_type": "markdown",
   "metadata": {},
   "source": [
    "__Iterating Three Dimensional Array__"
   ]
  },
  {
   "cell_type": "code",
   "execution_count": 20,
   "metadata": {},
   "outputs": [
    {
     "name": "stdout",
     "output_type": "stream",
     "text": [
      "[[[ 1  2  3  4  5]\n",
      "  [ 6  7  8  9 10]]\n",
      "\n",
      " [[ 1  2  3  4  5]\n",
      "  [ 6  7  8  9 10]]] \n",
      "\n",
      "\n",
      "[[ 1  2  3  4  5]\n",
      " [ 6  7  8  9 10]]\n",
      "[[ 1  2  3  4  5]\n",
      " [ 6  7  8  9 10]]\n"
     ]
    }
   ],
   "source": [
    "arr4 = np.array([[[1, 2, 3, 4, 5],[6, 7, 8, 9, 10]], [[1, 2, 3, 4, 5],[6, 7, 8, 9, 10]]])\n",
    "print(arr4, \"\\n\\n\")\n",
    "i = 0\n",
    "for x in arr4:\n",
    "    print(x)\n",
    "    i = i + 1\n",
    "    "
   ]
  },
  {
   "cell_type": "markdown",
   "metadata": {},
   "source": [
    "__Iterating The elements of a Three Dimensional Array__"
   ]
  },
  {
   "cell_type": "code",
   "execution_count": 6,
   "metadata": {},
   "outputs": [
    {
     "name": "stdout",
     "output_type": "stream",
     "text": [
      "1\n",
      "2\n",
      "3\n",
      "4\n",
      "5\n",
      "6\n",
      "7\n",
      "8\n",
      "9\n",
      "10\n",
      "1\n",
      "2\n",
      "3\n",
      "4\n",
      "5\n",
      "6\n",
      "7\n",
      "8\n",
      "9\n",
      "10\n"
     ]
    }
   ],
   "source": [
    "arr5 = np.array([[[1, 2, 3, 4, 5],[6, 7, 8, 9, 10]], [[1, 2, 3, 4, 5],[6, 7, 8, 9, 10]]])\n",
    "\n",
    "for i in arr5:\n",
    "    for j in i:\n",
    "        for k in j:\n",
    "            print(k)"
   ]
  },
  {
   "cell_type": "markdown",
   "metadata": {},
   "source": [
    "__Using nditer to Loop__\n",
    "\n",
    "__Syntax:__ *class numpy.nditer(op, flags=None, op_flags=None, op_dtypes=None, order='K', casting='safe', op_axes=None, itershape=None, buffersize=0)*"
   ]
  },
  {
   "cell_type": "code",
   "execution_count": 7,
   "metadata": {},
   "outputs": [
    {
     "name": "stdout",
     "output_type": "stream",
     "text": [
      "1\n",
      "1\n",
      "2\n",
      "2\n",
      "3\n",
      "3\n",
      "4\n",
      "4\n",
      "5\n",
      "5\n",
      "6\n",
      "6\n",
      "7\n",
      "7\n",
      "8\n",
      "8\n",
      "9\n",
      "9\n",
      "10\n",
      "10\n",
      "1\n",
      "11\n",
      "2\n",
      "12\n",
      "3\n",
      "13\n",
      "4\n",
      "14\n",
      "5\n",
      "15\n",
      "6\n",
      "16\n",
      "7\n",
      "17\n",
      "8\n",
      "18\n",
      "9\n",
      "19\n",
      "10\n",
      "20\n"
     ]
    }
   ],
   "source": [
    "arr6 = np.array([[[1, 2, 3, 4, 5],[6, 7, 8, 9, 10]], [[1, 2, 3, 4, 5],[6, 7, 8, 9, 10]]])\n",
    "z = 0\n",
    "for i in np.nditer(arr6):\n",
    "    print(i)\n",
    "    z = z +1\n",
    "    print(z)"
   ]
  },
  {
   "cell_type": "markdown",
   "metadata": {},
   "source": [
    "### Manipulation\n",
    "\n",
    "__Reshaping 1-D to a higher Dimension__\n",
    "\n",
    "__Syntax:__ *numpy.reshape(a, newshape, order='C')*"
   ]
  },
  {
   "cell_type": "code",
   "execution_count": 8,
   "metadata": {},
   "outputs": [
    {
     "name": "stdout",
     "output_type": "stream",
     "text": [
      "[ 0  1  2  3  4  5  6  7  8  9 10 11 12 13 14 15 16 17 18 19 20 21 22 23\n",
      " 24 25 26 27 28 29]\n",
      "[[ 0  1  2  3  4  5  6  7  8  9]\n",
      " [10 11 12 13 14 15 16 17 18 19]\n",
      " [20 21 22 23 24 25 26 27 28 29]]\n"
     ]
    }
   ],
   "source": [
    "array1 = np.arange(30)\n",
    "print(array1)\n",
    "array2 = array1.reshape(3,10) \n",
    "print(array2)"
   ]
  },
  {
   "cell_type": "markdown",
   "metadata": {},
   "source": [
    "__Reshaping Higher Dimension to 1-D__"
   ]
  },
  {
   "cell_type": "code",
   "execution_count": 9,
   "metadata": {},
   "outputs": [
    {
     "name": "stdout",
     "output_type": "stream",
     "text": [
      "[ 0  1  2  3  4  5  6  7  8  9 10 11 12 13 14 15 16 17 18 19 20 21 22 23\n",
      " 24 25 26 27 28 29]\n"
     ]
    }
   ],
   "source": [
    "array3 = array2.flatten()\n",
    "print(array3)"
   ]
  },
  {
   "cell_type": "markdown",
   "metadata": {},
   "source": [
    "__Transpose__"
   ]
  },
  {
   "cell_type": "code",
   "execution_count": 10,
   "metadata": {},
   "outputs": [
    {
     "name": "stdout",
     "output_type": "stream",
     "text": [
      "[[ 0  1  2  3  4  5  6  7  8  9]\n",
      " [10 11 12 13 14 15 16 17 18 19]\n",
      " [20 21 22 23 24 25 26 27 28 29]]\n",
      "[[ 0 10 20]\n",
      " [ 1 11 21]\n",
      " [ 2 12 22]\n",
      " [ 3 13 23]\n",
      " [ 4 14 24]\n",
      " [ 5 15 25]\n",
      " [ 6 16 26]\n",
      " [ 7 17 27]\n",
      " [ 8 18 28]\n",
      " [ 9 19 29]]\n"
     ]
    }
   ],
   "source": [
    "print(array2)\n",
    "print(array2.T)"
   ]
  },
  {
   "cell_type": "markdown",
   "metadata": {},
   "source": [
    "__Roll Axis__\n",
    "\n",
    "__Syntax:__ *numpy.rollaxis(a, axis, start=0)*"
   ]
  },
  {
   "cell_type": "code",
   "execution_count": 11,
   "metadata": {},
   "outputs": [
    {
     "name": "stdout",
     "output_type": "stream",
     "text": [
      "[[ 0 10 20]\n",
      " [ 1 11 21]\n",
      " [ 2 12 22]\n",
      " [ 3 13 23]\n",
      " [ 4 14 24]\n",
      " [ 5 15 25]\n",
      " [ 6 16 26]\n",
      " [ 7 17 27]\n",
      " [ 8 18 28]\n",
      " [ 9 19 29]]\n"
     ]
    }
   ],
   "source": [
    "print(np.rollaxis(array2,1))"
   ]
  },
  {
   "cell_type": "markdown",
   "metadata": {},
   "source": [
    "### Random Numbers"
   ]
  },
  {
   "cell_type": "code",
   "execution_count": 12,
   "metadata": {},
   "outputs": [],
   "source": [
    "from numpy import random"
   ]
  },
  {
   "cell_type": "markdown",
   "metadata": {},
   "source": [
    "__Generating Random Numbers__"
   ]
  },
  {
   "cell_type": "code",
   "execution_count": 13,
   "metadata": {},
   "outputs": [
    {
     "data": {
      "text/plain": [
       "0.07181715083841678"
      ]
     },
     "execution_count": 13,
     "metadata": {},
     "output_type": "execute_result"
    }
   ],
   "source": [
    "random.rand()"
   ]
  },
  {
   "cell_type": "markdown",
   "metadata": {},
   "source": [
    "__Generating Random 1-D Array__"
   ]
  },
  {
   "cell_type": "code",
   "execution_count": 14,
   "metadata": {},
   "outputs": [
    {
     "name": "stdout",
     "output_type": "stream",
     "text": [
      "[ 2 20  1 21 22]\n"
     ]
    }
   ],
   "source": [
    "r_array1 = random.randint(25, size=(5))\n",
    "print(r_array1)"
   ]
  },
  {
   "cell_type": "markdown",
   "metadata": {},
   "source": [
    "__Generating Random 2-D Array__"
   ]
  },
  {
   "cell_type": "code",
   "execution_count": 15,
   "metadata": {},
   "outputs": [
    {
     "name": "stdout",
     "output_type": "stream",
     "text": [
      "[[ 20  15  69 213  80]\n",
      " [ 66 219 101 190 100]\n",
      " [ 49 242 192  17 147]\n",
      " [166 211  28 156 242]\n",
      " [208  79  41  72 186]]\n"
     ]
    }
   ],
   "source": [
    "r_array2 = random.randint(250, size=(5, 5))\n",
    "print(r_array2)"
   ]
  },
  {
   "cell_type": "markdown",
   "metadata": {},
   "source": [
    "__Generating Arrays with Certain Numbers only__"
   ]
  },
  {
   "cell_type": "code",
   "execution_count": 16,
   "metadata": {},
   "outputs": [
    {
     "name": "stdout",
     "output_type": "stream",
     "text": [
      "[2 2 3 5 4 3 2 3 2 3 3 3 2 2 4 3 2 3 4 2 3 3 3 3 2 3 1 2 4 2 1 1 4 3 3 4 1\n",
      " 5 5 3 3 1 3 3 4 3 3 3 3 5 4 3 2 1 3 2 3 3 3 3 3 5 3 2 2 5 3 3 4 4 3 2 3 1\n",
      " 3 3 2 1 4 1 3 5 2 3 3 4 4 3 1 3 3 5 4 5 3 2 5 4 4 3]\n"
     ]
    }
   ],
   "source": [
    "r_array3 = random.choice([1, 2, 3, 4, 5], p=[0.1, 0.2, 0.4, 0.2, 0.1], size=(100))\n",
    "print(r_array3)"
   ]
  },
  {
   "cell_type": "markdown",
   "metadata": {},
   "source": [
    "__Creating a random 1-D Array and converting it into 3-D Array__"
   ]
  },
  {
   "cell_type": "code",
   "execution_count": 51,
   "metadata": {},
   "outputs": [
    {
     "name": "stdout",
     "output_type": "stream",
     "text": [
      "[ 8 29 34 47 43 33 31 43 41 25 36  1 17 14  3 43  0 30  7 44]\n"
     ]
    },
    {
     "data": {
      "text/plain": [
       "array([[[ 8, 29, 34, 47, 43],\n",
       "        [33, 31, 43, 41, 25]],\n",
       "\n",
       "       [[36,  1, 17, 14,  3],\n",
       "        [43,  0, 30,  7, 44]]])"
      ]
     },
     "execution_count": 51,
     "metadata": {},
     "output_type": "execute_result"
    }
   ],
   "source": [
    "r_arr1 = random.randint(50, size=(20))\n",
    "print(r_arr1)\n",
    "\n",
    "r_arr1 = r_arr1.reshape(2, 2, 5)\n",
    "r_arr1"
   ]
  },
  {
   "cell_type": "markdown",
   "metadata": {},
   "source": [
    "## Thank You!"
   ]
  }
 ],
 "metadata": {
  "kernelspec": {
   "display_name": "Python 3",
   "language": "python",
   "name": "python3"
  },
  "language_info": {
   "codemirror_mode": {
    "name": "ipython",
    "version": 3
   },
   "file_extension": ".py",
   "mimetype": "text/x-python",
   "name": "python",
   "nbconvert_exporter": "python",
   "pygments_lexer": "ipython3",
   "version": "3.8.3"
  }
 },
 "nbformat": 4,
 "nbformat_minor": 4
}
