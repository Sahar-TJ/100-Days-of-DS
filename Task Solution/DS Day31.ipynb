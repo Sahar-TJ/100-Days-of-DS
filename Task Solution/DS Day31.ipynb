{
 "cells": [
  {
   "cell_type": "markdown",
   "metadata": {},
   "source": [
    "# Day 31 of 100 Days of Data Science\n",
    "\n",
    "---\n",
    "## Stats - Z-test, T-Test, F-test, Anova"
   ]
  },
  {
   "cell_type": "markdown",
   "metadata": {},
   "source": [
    "__Z-Test:__ A statistical test to determine whether two population means are different when the variances are known and the sample size is larger than 30. Data points should be independent. Data should be normally distributed.\n",
    "Data should be normally selected from a population, where each item has an equal chance. It  is a hypothesis test in which the z-statistic follows a normal distribution. A z-statistic, or z-score, is a number representing the result from the z-test.\n",
    "\n",
    "Types:\n",
    "- One Sample  \n",
    "- 2 Sample\n",
    "- Paired\n",
    "\n",
    "It can be one tailed or two tail, meaning it can be on either one side of the mean or two side."
   ]
  },
  {
   "cell_type": "markdown",
   "metadata": {},
   "source": [
    "__T-Test:__ A t-test is a type of inferential statistic used to determine if there is a significant difference between the means of two groups, which may be related in certain features.\n",
    "The variances of the two samples are equal. The Student’s t-test assumes equal variance, the Welch t-test does not assume equal variance.\n",
    "\n",
    "Refer: https://towardsdatascience.com/parametric-tests-the-t-test-c9b17faabfb0"
   ]
  },
  {
   "cell_type": "markdown",
   "metadata": {},
   "source": [
    "__F-Test:__ The F-test is used in regression analysis to test the hypothesis that all model parameters are zero. It is also used in statistical analysis when comparing statistical models that have been fitted using the same underlying factors and data set to determine the model with the best fit. \n",
    "\n",
    "It is used to compare the variance between 2 groups. It is also used in ANOVA."
   ]
  },
  {
   "cell_type": "markdown",
   "metadata": {},
   "source": [
    "__ANOVA:__ Analysis of variance, or ANOVA, is a statistical method that separates observed variance data into different components to use for additional tests. \\\n",
    "A one-way ANOVA is used for three or more groups of data, to gain information about the relationship between the dependent and independent variables.   \n",
    "\n",
    "If no true variance exists between the groups, the ANOVA's F-ratio should equal close to 1. \\\n",
    "Like the t-test, ANOVA helps you find out whether the differences between groups of data are statistically significant. It works by analyzing the levels of variance within the groups through samples taken from each of them."
   ]
  },
  {
   "cell_type": "markdown",
   "metadata": {},
   "source": [
    "__Types of ANOVA Tests:__\n",
    "- One-Way ANOVA: A one-way ANOVA has just one independent variable\n",
    "- Two-Way ANOVA: A two-way ANOVA (also called factorial ANOVA) refers to an ANOVA using two independent variables\n",
    "- N-Way ANOVA: A researcher can also use more than two independent variables, and this is an n-way ANOVA (with n being the number of independent variables you have), aka MANOVA Test.\n",
    "\n",
    "An ANOVA will give you a single (univariate) f-value while a MANOVA will give you a multivariate F-value"
   ]
  },
  {
   "cell_type": "markdown",
   "metadata": {},
   "source": [
    "## Thank You!"
   ]
  }
 ],
 "metadata": {
  "kernelspec": {
   "display_name": "Python 3",
   "language": "python",
   "name": "python3"
  },
  "language_info": {
   "codemirror_mode": {
    "name": "ipython",
    "version": 3
   },
   "file_extension": ".py",
   "mimetype": "text/x-python",
   "name": "python",
   "nbconvert_exporter": "python",
   "pygments_lexer": "ipython3",
   "version": "3.8.3"
  }
 },
 "nbformat": 4,
 "nbformat_minor": 4
}
