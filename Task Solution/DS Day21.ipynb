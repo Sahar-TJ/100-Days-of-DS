{
 "cells": [
  {
   "cell_type": "markdown",
   "metadata": {},
   "source": [
    "# Day 21 of 100 Days of Data Science\n",
    "\n",
    "---\n",
    "## NumPy: Array Operations"
   ]
  },
  {
   "cell_type": "markdown",
   "metadata": {},
   "source": [
    "An Array can have the following operations:\n",
    "   - Bitwise\n",
    "   - String\n",
    "   - Mathematical\n",
    "   - Statistical"
   ]
  },
  {
   "cell_type": "code",
   "execution_count": 1,
   "metadata": {},
   "outputs": [],
   "source": [
    "import numpy as np"
   ]
  },
  {
   "cell_type": "markdown",
   "metadata": {},
   "source": [
    "__Bitwise Operations__"
   ]
  },
  {
   "cell_type": "code",
   "execution_count": 22,
   "metadata": {},
   "outputs": [
    {
     "name": "stdout",
     "output_type": "stream",
     "text": [
      "Number 1: 25 Binary: 11001\n",
      "Number 2: 18 Binary: 10010\n",
      "Bitwise_OR_operator: 27 Binary Representation: 11011\n",
      "Bitwise_AND_operator: 16 Binary Representation: 10000\n"
     ]
    }
   ],
   "source": [
    "num1 = 25\n",
    "num2 = 18\n",
    "print(\"Number 1:\", num1, \"Binary:\", np.binary_repr(num1))\n",
    "print(\"Number 2:\", num2, \"Binary:\", np.binary_repr(num2)) \n",
    "Bitwise_OR_operator = np.bitwise_or(num1, num2)\n",
    "Bitwise_AND_operator = np.bitwise_and(num1, num2)\n",
    "print(\"Bitwise_OR_operator:\", Bitwise_OR_operator, \"Binary Representation:\", np.binary_repr(Bitwise_OR_operator))\n",
    "print(\"Bitwise_AND_operator:\", Bitwise_AND_operator, \"Binary Representation:\", np.binary_repr(Bitwise_AND_operator))"
   ]
  },
  {
   "cell_type": "code",
   "execution_count": 25,
   "metadata": {},
   "outputs": [
    {
     "name": "stdout",
     "output_type": "stream",
     "text": [
      "Bitwise_OR_operator: 93 Binary Representation: 1011101\n",
      "Bitwise_AND_operator: 65 Binary Representation: 1000001\n"
     ]
    }
   ],
   "source": [
    "num1 = 73\n",
    "num2 = 85  \n",
    "Bitwise_OR_operator = np.bitwise_or(num1, num2)\n",
    "Bitwise_AND_operator = np.bitwise_and(num1, num2)\n",
    "print(\"Bitwise_OR_operator:\", Bitwise_OR_operator, \"Binary Representation:\", np.binary_repr(Bitwise_OR_operator))\n",
    "print(\"Bitwise_AND_operator:\", Bitwise_AND_operator, \"Binary Representation:\", np.binary_repr(Bitwise_AND_operator))"
   ]
  },
  {
   "cell_type": "markdown",
   "metadata": {},
   "source": [
    "__String operations__\n",
    "\n",
    "__Add__"
   ]
  },
  {
   "cell_type": "code",
   "execution_count": 4,
   "metadata": {},
   "outputs": [
    {
     "data": {
      "text/plain": [
       "array(['a1x', 'by', 'cz', 'da', 'eb', 'aa'], dtype='<U3')"
      ]
     },
     "execution_count": 4,
     "metadata": {},
     "output_type": "execute_result"
    }
   ],
   "source": [
    "str_array1 = np.array(['a1','b','c','d','e', 'a'])\n",
    "str_array2 = np.array(['x','y','z','a','b', 'a'])\n",
    "np.char.add(str_array1 , str_array2)"
   ]
  },
  {
   "cell_type": "code",
   "execution_count": 5,
   "metadata": {},
   "outputs": [
    {
     "data": {
      "text/plain": [
       "array(['aa', 'ba', 'ca', 'da', 'ea'], dtype='<U2')"
      ]
     },
     "execution_count": 5,
     "metadata": {},
     "output_type": "execute_result"
    }
   ],
   "source": [
    "str_array1 = np.array(['a','b','c','d','e'])\n",
    "str_array2 = 'a'\n",
    "np.char.add(str_array1 , str_array2)"
   ]
  },
  {
   "cell_type": "markdown",
   "metadata": {},
   "source": [
    "__Multiply__"
   ]
  },
  {
   "cell_type": "code",
   "execution_count": 6,
   "metadata": {},
   "outputs": [
    {
     "data": {
      "text/plain": [
       "array(['abababab', 'bbbb', 'cccc', 'dddd', 'eeee'], dtype='<U8')"
      ]
     },
     "execution_count": 6,
     "metadata": {},
     "output_type": "execute_result"
    }
   ],
   "source": [
    "str_array1 = np.array(['ab','b','c','d','e'])\n",
    "np.char.multiply(str_array1 , 4)"
   ]
  },
  {
   "cell_type": "markdown",
   "metadata": {},
   "source": [
    "__Capitalize__"
   ]
  },
  {
   "cell_type": "code",
   "execution_count": 26,
   "metadata": {},
   "outputs": [
    {
     "data": {
      "text/plain": [
       "array('Sonic', dtype='<U5')"
      ]
     },
     "execution_count": 26,
     "metadata": {},
     "output_type": "execute_result"
    }
   ],
   "source": [
    "np.char.capitalize('sonic')"
   ]
  },
  {
   "cell_type": "code",
   "execution_count": 27,
   "metadata": {},
   "outputs": [
    {
     "data": {
      "text/plain": [
       "array(['Ababab', 'Bbb', 'Ccc', 'Ddd', 'Eee'], dtype='<U6')"
      ]
     },
     "execution_count": 27,
     "metadata": {},
     "output_type": "execute_result"
    }
   ],
   "source": [
    "np.char.capitalize(np.char.multiply(str_array1 , 3))"
   ]
  },
  {
   "cell_type": "markdown",
   "metadata": {},
   "source": [
    "__Upper or Lower funtion__"
   ]
  },
  {
   "cell_type": "code",
   "execution_count": 11,
   "metadata": {},
   "outputs": [
    {
     "name": "stdout",
     "output_type": "stream",
     "text": [
      "['AB' 'B' 'C' 'D' 'E']\n"
     ]
    },
    {
     "data": {
      "text/plain": [
       "array(['ab', 'b', 'c', 'd', 'e'], dtype='<U2')"
      ]
     },
     "execution_count": 11,
     "metadata": {},
     "output_type": "execute_result"
    }
   ],
   "source": [
    "print(np.char.upper(str_array1))\n",
    "np.char.lower(str_array1)"
   ]
  },
  {
   "cell_type": "markdown",
   "metadata": {},
   "source": [
    "__Strip__"
   ]
  },
  {
   "cell_type": "code",
   "execution_count": 12,
   "metadata": {},
   "outputs": [
    {
     "name": "stdout",
     "output_type": "stream",
     "text": [
      "['  x   ' ' y ' ' z ' ' a  ' '  b   ']\n",
      "['x' 'y' 'z' 'a' 'b']\n"
     ]
    }
   ],
   "source": [
    "str_array3 = np.array(['  x   ',' y ',' z ',' a  ','  b   '])\n",
    "print(str_array3)\n",
    "print(np.char.strip(str_array3))"
   ]
  },
  {
   "cell_type": "markdown",
   "metadata": {},
   "source": [
    "__Replace__"
   ]
  },
  {
   "cell_type": "code",
   "execution_count": 13,
   "metadata": {},
   "outputs": [
    {
     "data": {
      "text/plain": [
       "array(['  x   ', ' y ', ' z ', ' a  ', '  b   '], dtype='<U6')"
      ]
     },
     "execution_count": 13,
     "metadata": {},
     "output_type": "execute_result"
    }
   ],
   "source": [
    "np.char.replace (str_array3, 't', 'a')"
   ]
  },
  {
   "cell_type": "markdown",
   "metadata": {},
   "source": [
    "__Mathematical Operation__"
   ]
  },
  {
   "cell_type": "code",
   "execution_count": 14,
   "metadata": {},
   "outputs": [
    {
     "name": "stdout",
     "output_type": "stream",
     "text": [
      "Addition: [3 4 5 6 7]\n",
      "Multiplication: [ 2  4  6  8 10]\n",
      "Subtract: [-1  0  1  2  3]\n"
     ]
    }
   ],
   "source": [
    "m_array1 = np.array([1,2,3,4,5])\n",
    "m_array2 = np.array([2,2,2,2,2])\n",
    "\n",
    "print(\"Addition:\", m_array1 + m_array2)\n",
    "print(\"Multiplication:\", m_array1 * m_array2)\n",
    "print(\"Subtract:\", m_array1 - m_array2)"
   ]
  },
  {
   "cell_type": "markdown",
   "metadata": {},
   "source": [
    "__Power__"
   ]
  },
  {
   "cell_type": "code",
   "execution_count": 15,
   "metadata": {},
   "outputs": [
    {
     "name": "stdout",
     "output_type": "stream",
     "text": [
      "[ 1  4  9 16 25]\n",
      "[ 1  4  9 16 25]\n"
     ]
    }
   ],
   "source": [
    "m_array1 = np.array([1,2,3,4,5])\n",
    "m_array2 = np.array([2,2,2,2,2])\n",
    "print(np.power(m_array1,m_array2))\n",
    "print(np.power(m_array1,2))"
   ]
  },
  {
   "cell_type": "markdown",
   "metadata": {},
   "source": [
    "__Statistical Operations__"
   ]
  },
  {
   "cell_type": "code",
   "execution_count": 16,
   "metadata": {},
   "outputs": [
    {
     "name": "stdout",
     "output_type": "stream",
     "text": [
      "Min: 1\n",
      "Max: 15\n"
     ]
    }
   ],
   "source": [
    "m_array4 = np.array([[1,2,3,4,5],[6,7,8,9,10],[11,12,13,14,15]]) \n",
    "print(\"Min:\", np.amin(m_array4))\n",
    "print(\"Max:\", np.amax(m_array4))"
   ]
  },
  {
   "cell_type": "code",
   "execution_count": 28,
   "metadata": {},
   "outputs": [
    {
     "name": "stdout",
     "output_type": "stream",
     "text": [
      "[[ 1  2  3  4  5]\n",
      " [ 6  7  8  9 10]\n",
      " [11 12 13 14 15]]\n",
      "Min: [ 1  6 11]\n",
      "Max: [11 12 13 14 15]\n"
     ]
    }
   ],
   "source": [
    "print(m_array4)\n",
    "print(\"Min:\", np.amin(m_array4, axis = 1)) \n",
    "print(\"Max:\", np.amax(m_array4, axis = 0))"
   ]
  },
  {
   "cell_type": "code",
   "execution_count": 18,
   "metadata": {},
   "outputs": [
    {
     "name": "stdout",
     "output_type": "stream",
     "text": [
      "Median: [ 3.  8. 13.]\n"
     ]
    }
   ],
   "source": [
    "print(\"Median:\", np.median(m_array4, 1))"
   ]
  },
  {
   "cell_type": "code",
   "execution_count": 19,
   "metadata": {},
   "outputs": [
    {
     "name": "stdout",
     "output_type": "stream",
     "text": [
      "Average: [ 6.  7.  8.  9. 10.]\n",
      "Mean: [ 6.  7.  8.  9. 10.]\n",
      "Variance: [16.66666667 16.66666667 16.66666667 16.66666667 16.66666667]\n"
     ]
    }
   ],
   "source": [
    "print(\"Average:\", np.average(m_array4, 0))\n",
    "print(\"Mean:\", np.mean(m_array4, 0))\n",
    "print(\"Variance:\", np.var(m_array4, 0))"
   ]
  },
  {
   "cell_type": "code",
   "execution_count": 20,
   "metadata": {},
   "outputs": [
    {
     "name": "stdout",
     "output_type": "stream",
     "text": [
      "Percentile: [11. 12. 13. 14. 15.]\n"
     ]
    }
   ],
   "source": [
    "print(\"Percentile:\", np.percentile(m_array4, 100, axis = 0))"
   ]
  },
  {
   "cell_type": "markdown",
   "metadata": {},
   "source": [
    "## Thank You!"
   ]
  }
 ],
 "metadata": {
  "kernelspec": {
   "display_name": "Python 3",
   "language": "python",
   "name": "python3"
  },
  "language_info": {
   "codemirror_mode": {
    "name": "ipython",
    "version": 3
   },
   "file_extension": ".py",
   "mimetype": "text/x-python",
   "name": "python",
   "nbconvert_exporter": "python",
   "pygments_lexer": "ipython3",
   "version": "3.8.3"
  }
 },
 "nbformat": 4,
 "nbformat_minor": 4
}
