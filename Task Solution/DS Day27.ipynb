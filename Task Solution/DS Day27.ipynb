{
 "cells": [
  {
   "cell_type": "markdown",
   "metadata": {},
   "source": [
    "# Day 27 of 100 Days of Data Science\n",
    "\n",
    "---\n",
    "## Stats - Central tendency and Variability Measures"
   ]
  },
  {
   "cell_type": "markdown",
   "metadata": {},
   "source": [
    "__Mean:__ Sum of the measure divided by total number of records.\n",
    "__Median:__ Middle most value \n",
    "__Mode:__ Most occured value\n",
    "\n",
    "---\n",
    "__Skewness:__ Measure the distribution is normally distributed or is it skewing towards one side of the curve\n",
    "\n",
    "- Negatively Skewed: skewed towards right.\n",
    "- Positively Skewed: Skewed/leaning towards left.\n",
    "\n",
    "__Kurtosis:__ Tells the extent of outliers in the data. Higher the kurtosis, high amount of outliers, it goes like a peak in the graph. Low kurtosis has almost flat curve or shorter curve.\n"
   ]
  },
  {
   "cell_type": "markdown",
   "metadata": {},
   "source": [
    "__Importing Libraries & Data__"
   ]
  },
  {
   "cell_type": "code",
   "execution_count": 1,
   "metadata": {},
   "outputs": [],
   "source": [
    "import pandas as pd\n",
    "import numpy as np\n",
    "import matplotlib.pyplot as plt\n",
    "from scipy.stats import skew\n",
    "from scipy.stats import kurtosis\n",
    "from scipy import stats"
   ]
  },
  {
   "cell_type": "code",
   "execution_count": 3,
   "metadata": {},
   "outputs": [
    {
     "name": "stdout",
     "output_type": "stream",
     "text": [
      "   Object  Meassure\n",
      "0       1        60\n",
      "1       2       136\n",
      "2       3        79\n",
      "3       4       119\n",
      "4       5        96\n"
     ]
    }
   ],
   "source": [
    "original_data = pd.read_csv(r'C:\\Users\\user\\Desktop\\100daysds\\Stats_Day2_Data.csv')\n",
    "print(original_data.head())"
   ]
  },
  {
   "cell_type": "markdown",
   "metadata": {},
   "source": [
    "__Distribution__"
   ]
  },
  {
   "cell_type": "code",
   "execution_count": 4,
   "metadata": {},
   "outputs": [
    {
     "data": {
      "text/plain": [
       "Text(0.5, 0, 'Random Data')"
      ]
     },
     "execution_count": 4,
     "metadata": {},
     "output_type": "execute_result"
    },
    {
     "data": {
      "image/png": "[encoded data removed]",
      "text/plain": [
       "<Figure size 432x288 with 1 Axes>"
      ]
     },
     "metadata": {
      "needs_background": "light"
     },
     "output_type": "display_data"
    }
   ],
   "source": [
    "plt.hist(original_data['Meassure'], density=True, bins=30)  \n",
    "plt.ylabel('Probability')\n",
    "plt.xlabel('Random Data')"
   ]
  },
  {
   "cell_type": "markdown",
   "metadata": {},
   "source": [
    "__Central Tendency__"
   ]
  },
  {
   "cell_type": "code",
   "execution_count": 5,
   "metadata": {},
   "outputs": [
    {
     "name": "stdout",
     "output_type": "stream",
     "text": [
      "Mean: 100.594\n",
      "Median: 101.0\n",
      "Mode: 0    86\n",
      "dtype: int64\n",
      "Skewness: -0.10972489865324071\n",
      "Kurtosis: 0.04437337405623509\n"
     ]
    }
   ],
   "source": [
    "print(\"Mean:\", original_data['Meassure'].mean())\n",
    "print(\"Median:\", original_data['Meassure'].median())\n",
    "print(\"Mode:\", original_data['Meassure'].mode())\n",
    "print(\"Skewness:\", skew(original_data['Meassure']))\n",
    "# 0 means a normal distribution\n",
    "# To check for negative or positve skewness\n",
    "print(\"Kurtosis:\", kurtosis(original_data['Meassure']))\n",
    "# Probability of Outliers in data \n",
    "#Leptokurtic - High kurtosis - Many Outliers\n",
    "#Platykurtic - Low Kurtosis - Less Outliers"
   ]
  },
  {
   "cell_type": "markdown",
   "metadata": {},
   "source": [
    "__Percentiles__"
   ]
  },
  {
   "cell_type": "code",
   "execution_count": 7,
   "metadata": {},
   "outputs": [
    {
     "data": {
      "text/plain": [
       "0.1     69.0\n",
       "0.2     80.8\n",
       "0.3     88.0\n",
       "0.4     95.0\n",
       "0.5    101.0\n",
       "0.6    107.0\n",
       "0.7    114.0\n",
       "0.8    122.0\n",
       "0.9    132.0\n",
       "Name: Meassure, dtype: float64"
      ]
     },
     "execution_count": 7,
     "metadata": {},
     "output_type": "execute_result"
    }
   ],
   "source": [
    "original_data['Meassure'].quantile(np.linspace(.1, 1, 9, 0))"
   ]
  },
  {
   "cell_type": "markdown",
   "metadata": {},
   "source": [
    "__Variance__ - Meassure how far the individual values go from the mean. Subtract the value from the mean and square it. The total is divided by the total number of values."
   ]
  },
  {
   "cell_type": "code",
   "execution_count": 8,
   "metadata": {},
   "outputs": [
    {
     "data": {
      "text/plain": [
       "618.057164"
      ]
     },
     "execution_count": 8,
     "metadata": {},
     "output_type": "execute_result"
    }
   ],
   "source": [
    "np.var(original_data['Meassure'])"
   ]
  },
  {
   "cell_type": "markdown",
   "metadata": {},
   "source": [
    "__Standard Deviation__- Measure of volatality in the data too, it is actually square root of the variance. It is the square root of variance. It tells how much the mean value vary."
   ]
  },
  {
   "cell_type": "code",
   "execution_count": 9,
   "metadata": {},
   "outputs": [
    {
     "data": {
      "text/plain": [
       "24.860755499380947"
      ]
     },
     "execution_count": 9,
     "metadata": {},
     "output_type": "execute_result"
    }
   ],
   "source": [
    "np.std(original_data['Meassure'])"
   ]
  },
  {
   "cell_type": "markdown",
   "metadata": {},
   "source": [
    "__Standard of Mean:__ Measure to find how accurate is the estimated population mean. Tells what is the error rate of the mean we calculated."
   ]
  },
  {
   "cell_type": "code",
   "execution_count": 10,
   "metadata": {},
   "outputs": [
    {
     "data": {
      "text/plain": [
       "0.7865594954228445"
      ]
     },
     "execution_count": 10,
     "metadata": {},
     "output_type": "execute_result"
    }
   ],
   "source": [
    "stats.sem(original_data['Meassure'])"
   ]
  },
  {
   "cell_type": "markdown",
   "metadata": {},
   "source": [
    "## Thank You!"
   ]
  }
 ],
 "metadata": {
  "kernelspec": {
   "display_name": "Python 3",
   "language": "python",
   "name": "python3"
  },
  "language_info": {
   "codemirror_mode": {
    "name": "ipython",
    "version": 3
   },
   "file_extension": ".py",
   "mimetype": "text/x-python",
   "name": "python",
   "nbconvert_exporter": "python",
   "pygments_lexer": "ipython3",
   "version": "3.8.3"
  }
 },
 "nbformat": 4,
 "nbformat_minor": 4
}
