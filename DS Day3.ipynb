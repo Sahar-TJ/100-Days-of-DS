{
 "cells": [
  {
   "cell_type": "markdown",
   "metadata": {},
   "source": [
    "# Day 3 of 100 days of Data Science\n",
    "\n",
    "a crowdsourced Data Science learning program by Mr. Sharan\n",
    "\n",
    "---\n",
    "\n",
    "## Numeric, Boolean and Operators\n"
   ]
  },
  {
   "cell_type": "markdown",
   "metadata": {},
   "source": [
    "- __Numeric Data Type:__ Any variable that consists only numbers as the data.\n",
    "\n",
    "- __Boolean Data Type:__ Variables that have True or False as their value \n",
    "\n",
    "- __Operators:__ They help in performing different types of functions between two or more operands"
   ]
  },
  {
   "cell_type": "markdown",
   "metadata": {},
   "source": [
    "### Numeric Data types\n",
    "#### Int:\n",
    "integers are zero, positive or negative whole numbers without a fractional part and having unlimited precision.\n",
    "#### Float:\n",
    "floating point numbers (float) are positive and negative real numbers with a fractional part denoted by the decimal symbol\n",
    "#### Complex:\n",
    "A complex number is a number with real and imaginary components. For example, 5 + 6j is a complex number where 5 is the real component and 6 multiplied by j is an imaginary component."
   ]
  },
  {
   "cell_type": "code",
   "execution_count": 8,
   "metadata": {},
   "outputs": [
    {
     "name": "stdout",
     "output_type": "stream",
     "text": [
      "Num_1 = 27  <class 'int'>\n",
      "Num_2 = 59.430000 <class 'float'>\n",
      "Num_3 =  <class 'complex'>\n"
     ]
    }
   ],
   "source": [
    "num_1 = 27\n",
    "num_2 = 59.43\n",
    "num_3 = 3 + 9j\n",
    "\n",
    "print(\"Num_1 = %d \" % num_1, type(num_1))\n",
    "print(\"Num_2 = %f\" % num_2,type(num_2))\n",
    "print(\"Num_3 = \",type(num_3))\n"
   ]
  },
  {
   "cell_type": "markdown",
   "metadata": {},
   "source": [
    "### Boolean Data Type\n",
    "#### True:\n",
    "States if the value given in the variable is there by returning True. It can even be returned when a condition is correct\n",
    "#### False:\n",
    "States if the value is not given in the variable by returning False. It can even be returned when a condition is wrong"
   ]
  },
  {
   "cell_type": "code",
   "execution_count": 11,
   "metadata": {},
   "outputs": [
    {
     "data": {
      "text/plain": [
       "bool"
      ]
     },
     "execution_count": 11,
     "metadata": {},
     "output_type": "execute_result"
    }
   ],
   "source": [
    "Var_1 = True\n",
    "type(Var_1)"
   ]
  },
  {
   "cell_type": "markdown",
   "metadata": {},
   "source": [
    "### Operators\n",
    "#### Arithmetic Operators\n",
    "- ( + )\tAddition\t\t\n",
    "- ( - )\tSubtraction\t\t\n",
    "- ( * )\tMultiplication\t\n",
    "- ( / )\tDivision\t\t\n",
    "- ( % )\tModulus\t\t\n",
    "- ( ** )\tExponentiation\t\n",
    "- ( // )\tFloor division\n",
    "\n",
    "#### Assingment Operators\n",
    "    =\tequals to\t\n",
    "    +=  add equals to\n",
    "    -=\tsubtract equals to\t\n",
    "    *=\tmultiply equals to\t\n",
    "    /=\tdivide equals to\t\n",
    "    %=\tModulus equals to\t\n",
    "    //=\tfloor equal\n",
    "    **= Exponent equals\t\n",
    "\n",
    "#### Logical Operators\n",
    "    Logical AND ( && ) \n",
    "    Logical OR ( || )\n",
    "    Logical NOT ( ! )\n",
    "\n",
    "#### Comparison Operators\n",
    "    ==\tEqual\t\n",
    "    !=\tNot equal\t\n",
    "    >\tGreater than\t\n",
    "    <\tLess than\t\n",
    "    >=\tGreater than or equal to\t\t\n",
    "    <=\tLess than or equal to"
   ]
  },
  {
   "cell_type": "code",
   "execution_count": 26,
   "metadata": {},
   "outputs": [
    {
     "name": "stdout",
     "output_type": "stream",
     "text": [
      "Addition operator = a + b =  12\n",
      " Multiplication operator = a * b = 32\n"
     ]
    }
   ],
   "source": [
    "a = 4\n",
    "b = 8\n",
    "\n",
    "if (a == 7) or (a >=0):\n",
    "    print(\"Addition operator = a + b = \", a + b)\n",
    "if (b == 8) and (type(b) == int):\n",
    "    print(\" Multiplication operator = a * b =\", a * b)\n"
   ]
  },
  {
   "cell_type": "markdown",
   "metadata": {},
   "source": [
    "a and b have been assigned values using ( = ) operator. Then the condition is checked by using the OR operator and it prints out the sum using the arthematic operator\n",
    "\n",
    "The second condition has and operator, that uses multiplication operator. Comparison operators were also used to compare the variable to the value."
   ]
  },
  {
   "cell_type": "markdown",
   "metadata": {},
   "source": [
    "## Thank you!"
   ]
  }
 ],
 "metadata": {
  "kernelspec": {
   "display_name": "Python 3",
   "language": "python",
   "name": "python3"
  },
  "language_info": {
   "codemirror_mode": {
    "name": "ipython",
    "version": 3
   },
   "file_extension": ".py",
   "mimetype": "text/x-python",
   "name": "python",
   "nbconvert_exporter": "python",
   "pygments_lexer": "ipython3",
   "version": "3.8.3"
  }
 },
 "nbformat": 4,
 "nbformat_minor": 4
}
